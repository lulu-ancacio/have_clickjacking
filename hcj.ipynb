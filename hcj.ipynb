{
 "cells": [
  {
   "cell_type": "code",
   "execution_count": null,
   "id": "9856a528",
   "metadata": {},
   "outputs": [],
   "source": [
    "import requests\n",
    "\n",
    "def hcj(root_domain, xframe = '', csp = ''):\n",
    "    \n",
    "    site = 'http://'+root_domain\n",
    "    \n",
    "    request = requests.get(site)    \n",
    "    header = request.headers\n",
    "    html = f'''\n",
    "<!DOCTYPE html>\n",
    "<html lang=\"en\">\n",
    "<head>\n",
    "    <meta charset=\"UTF-8\">\n",
    "    <meta http-equiv=\"X-UA-Compatible\" content=\"IE=edge\">\n",
    "    <meta name=\"viewport\" content=\"width=device-width, initial-scale=1.0\">\n",
    "    <title>Have ClickJacking?</title>\n",
    "</head>\n",
    "<body>\n",
    "    <center>\n",
    "        <h1>- Have ClickJacking? <br>\n",
    "            - Yes, look!</h1>\n",
    "        <iframe width=880px height=600px src=\"{site}\"></iframe>\n",
    "    </center>\n",
    "</body>\n",
    "</html>\n",
    "'''\n",
    "\n",
    "    def criar_html(html, url):\n",
    "        with open(('hcj_'+url+'.html'), 'w') as arq:\n",
    "            arq.write(html)\n",
    "    \n",
    "    if 'x-Frame-Options' in header:\n",
    "        xframe = (header['X-Frame-Options']).upper()\n",
    "    if 'content-security-policy' in header:\n",
    "        csp = (header['content-security-policy']).upper()\n",
    "        \n",
    "    resultado = {\n",
    "            'ClickJacking': None,\n",
    "            'X-Frame-Options':xframe,\n",
    "            'Content-Security-Policy':csp\n",
    "        }\n",
    "        \n",
    "    if xframe == 'SAMEORIGIN' or xframe == 'DENY' or (\"FRAME-ANCESTORS 'SELF'\" or \"FRAME-ANCESTORS 'NONE'\") in csp:\n",
    "        resultado['ClickJacking'] = False\n",
    "        return resultado\n",
    "    else:\n",
    "        criar_html(html, root_domain)\n",
    "        resultado['ClickJacking'] = True\n",
    "        return resultado"
   ]
  }
 ],
 "metadata": {
  "kernelspec": {
   "display_name": "Python 3 (ipykernel)",
   "language": "python",
   "name": "python3"
  },
  "language_info": {
   "codemirror_mode": {
    "name": "ipython",
    "version": 3
   },
   "file_extension": ".py",
   "mimetype": "text/x-python",
   "name": "python",
   "nbconvert_exporter": "python",
   "pygments_lexer": "ipython3",
   "version": "3.9.7"
  }
 },
 "nbformat": 4,
 "nbformat_minor": 5
}
